{
 "cells": [
  {
   "cell_type": "code",
   "execution_count": 22,
   "metadata": {},
   "outputs": [
    {
     "name": "stdout",
     "output_type": "stream",
     "text": [
      "Train dataset size: 28500\n",
      "Test dataset size: 1500\n"
     ]
    }
   ],
   "source": [
    "import numpy as np\n",
    "import torch\n",
    "from torch.utils.data import Dataset, DataLoader\n",
    "from torchvision import transforms \n",
    "from PIL import Image\n",
    "# Custom Dataset class\n",
    "class DigitSumDataset(Dataset):\n",
    "    def __init__(self, data_files, label_files,transform ):\n",
    "        # Load all data and labels\n",
    "        self.data = []\n",
    "        self.labels = []\n",
    "        for data_file, label_file in zip(data_files, label_files):\n",
    "            self.data.append(np.load(data_file))  # Load image data\n",
    "            self.labels.append(np.load(label_file))  # Load labels\n",
    "\n",
    "        # Combine all data and labels into a single array\n",
    "        self.data = np.concatenate(self.data, axis=0)  # Shape: (N, H, W)\n",
    "        self.labels = np.concatenate(self.labels, axis=0)  # Shape: (N,)\n",
    "        self.transform = transform\n",
    "\n",
    "    def __len__(self):\n",
    "        return len(self.labels)\n",
    "\n",
    "    def __getitem__(self, idx):\n",
    "        image, label = self.data[idx], self.labels[idx]\n",
    "\n",
    "        # Convert NumPy array to PIL Image\n",
    "        image = Image.fromarray(image.astype(np.uint8))  # Convert to 8-bit grayscale image\n",
    "\n",
    "        if self.transform:\n",
    "            image = self.transform(image)\n",
    "\n",
    "        label = torch.tensor(label, dtype=torch.long)\n",
    "        return image, torch.zeros(40, dtype=torch.long), label,\"--.png\"\n",
    "\n",
    "\n",
    "transform = transforms.Compose([\n",
    "#    transforms.RandomAffine(degrees=15, translate=(0.1, 0.1)),  # Random rotation ±15° and shifts up to 10%\n",
    "    transforms.Resize((40, 168)),  # Resize image to the correct size\n",
    "    transforms.ToTensor(),         # Convert image to Tensor\n",
    "    transforms.Normalize((0.5,), (0.5,))  # Normalize (for grayscale images)\n",
    "])\n",
    "\n",
    "# File paths\n",
    "data_files = [\"data0.npy\", \"data1.npy\", \"data2.npy\"]\n",
    "label_files = [\"lab0.npy\", \"lab1.npy\", \"lab2.npy\"]\n",
    "\n",
    "# Create the dataset\n",
    "dataset = DigitSumDataset(data_files, label_files, transform=transform)\n",
    "\n",
    "from torch.utils.data import DataLoader, Subset\n",
    "\n",
    "# Assuming `dataset` is your dataset\n",
    "dataset_size = len(dataset)\n",
    "split = int(0.95 * dataset_size)  # 80% for training\n",
    "\n",
    "# Define train and test indices based on order\n",
    "train_indices = list(range(split))\n",
    "test_indices = list(range(split, dataset_size))\n",
    "\n",
    "# Use Subset to create train and test datasets\n",
    "train_dataset = Subset(dataset, train_indices)\n",
    "test_dataset = Subset(dataset, test_indices)\n",
    "\n",
    "print(f\"Train dataset size: {len(train_dataset)}\")\n",
    "print(f\"Test dataset size: {len(test_dataset)}\")\n",
    "\n",
    "# DataLoader for batching\n",
    "batch_size = 16\n",
    "train_loader = DataLoader(train_dataset, batch_size=batch_size, shuffle=True)\n",
    "test_loader = DataLoader(test_dataset, batch_size=batch_size, shuffle=False)\n",
    "\n"
   ]
  },
  {
   "cell_type": "code",
   "execution_count": 23,
   "metadata": {},
   "outputs": [
    {
     "name": "stdout",
     "output_type": "stream",
     "text": [
      "Images shape: torch.Size([16, 1, 40, 168])\n",
      "Labels shape: torch.Size([16])\n"
     ]
    }
   ],
   "source": [
    "for images,_ , labels,_ in train_loader:\n",
    "    print(\"Images shape:\", images.shape)  # (batch_size, C, H, W)\n",
    "    print(\"Labels shape:\", labels.shape)  # (batch_size,)\n",
    "    break  # Process the first batch only\n"
   ]
  },
  {
   "cell_type": "code",
   "execution_count": 24,
   "metadata": {},
   "outputs": [],
   "source": [
    "from models import MNISTDigitModel,MNISTSumModel,CombinedModel\n",
    "import torch.optim as optim\n",
    "new_dropout = 0.001\n",
    "digit_model = MNISTDigitModel(num_blocks=5, kernel_size=3, activation='relu', pool='max', dropout=new_dropout)\n",
    "sum_model = MNISTSumModel()\n",
    "combined_model = CombinedModel(digit_model, sum_model)\n",
    "new_learning_rate = 0.00001 ##0.0001 for CNN\n",
    "optimizer = optim.Adam(filter(lambda p: p.requires_grad, combined_model.parameters()), lr=new_learning_rate)\n",
    "\n"
   ]
  },
  {
   "cell_type": "code",
   "execution_count": 25,
   "metadata": {},
   "outputs": [
    {
     "name": "stdout",
     "output_type": "stream",
     "text": [
      "Loading combined model checkpoint from ./checkpoints_comb/checkpoint_epoch_800.pth...\n",
      "Inference on  from epoch 800...\n"
     ]
    },
    {
     "name": "stderr",
     "output_type": "stream",
     "text": [
      "/tmp/ipykernel_9023/2827147740.py:6: FutureWarning: You are using `torch.load` with `weights_only=False` (the current default value), which uses the default pickle module implicitly. It is possible to construct malicious pickle data which will execute arbitrary code during unpickling (See https://github.com/pytorch/pytorch/blob/main/SECURITY.md#untrusted-models for more details). In a future release, the default value for `weights_only` will be flipped to `True`. This limits the functions that could be executed during unpickling. Arbitrary objects will no longer be allowed to be loaded via this mode unless they are explicitly allowlisted by the user via `torch.serialization.add_safe_globals`. We recommend you start setting `weights_only=True` for any use case where you don't have full control of the loaded file. Please open an issue on GitHub for any issues related to this experimental feature.\n",
      "  checkpoint = torch.load(checkpoint_path)\n"
     ]
    }
   ],
   "source": [
    "import os\n",
    "checkpoint_path = './checkpoints_comb/checkpoint_epoch_800.pth'\n",
    "start_epoch = 0\n",
    "if os.path.exists(checkpoint_path):\n",
    "    print(f\"Loading combined model checkpoint from {checkpoint_path}...\")\n",
    "    checkpoint = torch.load(checkpoint_path)\n",
    "    combined_model.load_state_dict(checkpoint['model_state_dict'])\n",
    "    start_epoch = checkpoint['epoch']\n",
    "    print(f\"Inference on  from epoch {start_epoch}...\")\n"
   ]
  },
  {
   "cell_type": "code",
   "execution_count": null,
   "metadata": {},
   "outputs": [],
   "source": []
  },
  {
   "cell_type": "code",
   "execution_count": 26,
   "metadata": {},
   "outputs": [
    {
     "name": "stdout",
     "output_type": "stream",
     "text": [
      "Sample : --.png\n",
      "Original Sum: 18\n",
      "Predicted Sum: 13.900890350341797\n",
      "Sample : --.png\n",
      "Original Sum: 22\n",
      "Predicted Sum: 17.575048446655273\n",
      "Sample : --.png\n",
      "Original Sum: 27\n",
      "Predicted Sum: 26.770898818969727\n",
      "Sample : --.png\n",
      "Original Sum: 19\n",
      "Predicted Sum: 18.929349899291992\n",
      "Sample : --.png\n",
      "Original Sum: 13\n",
      "Predicted Sum: 16.574840545654297\n",
      "Sample : --.png\n",
      "Original Sum: 19\n",
      "Predicted Sum: 16.74129295349121\n",
      "Sample : --.png\n",
      "Original Sum: 21\n",
      "Predicted Sum: 20.68996810913086\n",
      "Sample : --.png\n",
      "Original Sum: 12\n",
      "Predicted Sum: 15.918709754943848\n",
      "Sample : --.png\n",
      "Original Sum: 20\n",
      "Predicted Sum: 20.56634521484375\n",
      "Sample : --.png\n",
      "Original Sum: 29\n",
      "Predicted Sum: 26.68421745300293\n"
     ]
    }
   ],
   "source": [
    "combined_model.eval()\n",
    "# Evaluation on test_loader\n",
    "with torch.no_grad():  # Disable gradient computation for evaluation\n",
    "    for images, _, labels_sum, nam in test_loader: \n",
    "        # Forward pass\n",
    "        _, sum_output = combined_model(images)\n",
    "        for i in range(10):\n",
    "            print(f\"Sample :\",nam[i])\n",
    "            print(f\"Original Sum: {labels_sum[i]}\")\n",
    "            print(f\"Predicted Sum: {sum_output[i].item()}\")  \n",
    "\n",
    "        break  # Just evaluate the first batch and exit the loop\n"
   ]
  },
  {
   "cell_type": "code",
   "execution_count": 27,
   "metadata": {},
   "outputs": [
    {
     "name": "stdout",
     "output_type": "stream",
     "text": [
      "Mean Squared Error (MSE): 5.1791\n",
      "Accuracy: 25.93%\n"
     ]
    }
   ],
   "source": [
    "import torch\n",
    "import torch.nn.functional as F\n",
    "\n",
    "# Initialize variables for MSE and accuracy calculations\n",
    "total_mse = 0\n",
    "correct_predictions = 0\n",
    "total_samples = 0\n",
    "\n",
    "combined_model.eval()  # Set the model to evaluation mode\n",
    "\n",
    "with torch.no_grad():  # Disable gradient computation for evaluation\n",
    "    for images, _, labels_sum, nam in test_loader:  # Adjust based on your dataset\n",
    "        # Forward pass\n",
    "        _, sum_output = combined_model(images)\n",
    "        \n",
    "        # Calculate MSE for the batch\n",
    "        mse_batch = F.mse_loss(sum_output.squeeze(), labels_sum, reduction='sum')  # Sum MSE for the batch\n",
    "        total_mse += mse_batch.item()\n",
    "        \n",
    "        # Round predictions and calculate accuracy\n",
    "        rounded_preds = sum_output.round().squeeze()  # Round predictions to the nearest integer\n",
    "        correct_predictions += (rounded_preds == labels_sum).sum().item()\n",
    "        total_samples += labels_sum.size(0)\n",
    "        \n",
    "\n",
    "# Final metrics\n",
    "mse = total_mse / total_samples  # Mean Squared Error\n",
    "accuracy = (correct_predictions / total_samples) * 100  # Accuracy as a percentage\n",
    "\n",
    "print(f\"Mean Squared Error (MSE): {mse:.4f}\")\n",
    "print(f\"Accuracy: {accuracy:.2f}%\")\n"
   ]
  }
 ],
 "metadata": {
  "kernelspec": {
   "display_name": "torchenv",
   "language": "python",
   "name": "python3"
  },
  "language_info": {
   "codemirror_mode": {
    "name": "ipython",
    "version": 3
   },
   "file_extension": ".py",
   "mimetype": "text/x-python",
   "name": "python",
   "nbconvert_exporter": "python",
   "pygments_lexer": "ipython3",
   "version": "3.10.16"
  }
 },
 "nbformat": 4,
 "nbformat_minor": 2
}
