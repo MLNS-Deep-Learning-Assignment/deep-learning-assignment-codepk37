{
 "cells": [
  {
   "cell_type": "code",
   "execution_count": 3,
   "metadata": {},
   "outputs": [
    {
     "name": "stdout",
     "output_type": "stream",
     "text": [
      "\n",
      "image 1/1 /home/pavan/Desktop/deep-learning-assignment-codepk37/Part_2/23.png: 160x640 1 0, 1 7, 2 8s, 18.0ms\n",
      "Speed: 0.6ms preprocess, 18.0ms inference, 1.0ms postprocess per image at shape (1, 3, 160, 640)\n",
      "Results saved to \u001b[1mruns/detect/predict2\u001b[0m\n",
      "Class: 0, Confidence: 0.9491181373596191\n",
      "Class: 8, Confidence: 0.928496778011322\n",
      "Class: 8, Confidence: 0.9231512546539307\n",
      "Class: 7, Confidence: 0.9207683205604553\n"
     ]
    }
   ],
   "source": [
    "from ultralytics import YOLO\n",
    "\n",
    "# Load the trained model\n",
    "model = YOLO(\"./runs/detect/train5/weights/best.pt\")\n",
    "\n",
    "# Run inference on an image\n",
    "results = model.predict(source=\"img.png\", save=True, imgsz=640)\n",
    "\n",
    "# Process the results\n",
    "for result in results:\n",
    "    boxes = result.boxes  # Detected bounding boxes\n",
    "    for box in boxes:\n",
    "        cls = int(box.cls)  # Class ID (as integer)\n",
    "        conf = float(box.conf)  # Confidence (probability)\n",
    "        print(f\"Class: {cls}, Confidence: {conf}\")\n"
   ]
  },
  {
   "cell_type": "code",
   "execution_count": 7,
   "metadata": {},
   "outputs": [
    {
     "name": "stdout",
     "output_type": "stream",
     "text": [
      "Accuracy: 69.33%\n"
     ]
    }
   ],
   "source": [
    "import numpy as np\n",
    "from ultralytics import YOLO\n",
    "\n",
    "# Define your data and label files\n",
    "data_files = [\"data0.npy\", \"data1.npy\", \"data2.npy\"]\n",
    "label_files = [\"lab0.npy\", \"lab1.npy\", \"lab2.npy\"]\n",
    "\n",
    "# Load all images and labels\n",
    "images = np.concatenate([np.load(file) for file in data_files], axis=0)  # Combine image arrays\n",
    "labels = np.concatenate([np.load(file) for file in label_files], axis=0)  # Combine label arrays\n",
    "\n",
    "# Split data into training and testing sets\n",
    "split = int(0.99 * len(images))  # 80% training, 20% testing\n",
    "test_images = images[split:]\n",
    "test_labels = labels[split:]\n",
    "\n",
    "# Load the YOLO model\n",
    "model = YOLO(\"./runs/detect/train5/weights/best.pt\")\n",
    "\n",
    "# Accuracy computation variables\n",
    "total_images = len(test_images)\n",
    "correct_predictions = 0\n",
    "\n",
    "# Loop through test images and labels\n",
    "for img, label in zip(test_images, test_labels):\n",
    "    # Ensure the image is in the right format for YOLO\n",
    "    if img.ndim == 2:  # If grayscale, convert to 3 channels\n",
    "        img = np.stack([img] * 3, axis=-1)\n",
    "\n",
    "    # Run YOLO inference\n",
    "    results = model.predict(source=img, save=False, imgsz=640, verbose=False)\n",
    "\n",
    "    # Compute the predicted sum of classes\n",
    "    predicted_sum = 0\n",
    "    for result in results:\n",
    "        boxes = result.boxes\n",
    "        for box in boxes:\n",
    "            predicted_sum += int(box.cls)  # Sum the predicted class IDs\n",
    "\n",
    "    # Check if the predicted sum matches the actual label\n",
    "    if predicted_sum == label:\n",
    "        correct_predictions += 1\n",
    "\n",
    "# Calculate and print accuracy\n",
    "accuracy = (correct_predictions / total_images) * 100\n",
    "print(f\"Accuracy: {accuracy:.2f}%\")\n"
   ]
  },
  {
   "cell_type": "code",
   "execution_count": null,
   "metadata": {},
   "outputs": [],
   "source": []
  }
 ],
 "metadata": {
  "kernelspec": {
   "display_name": "torchenv",
   "language": "python",
   "name": "python3"
  },
  "language_info": {
   "codemirror_mode": {
    "name": "ipython",
    "version": 3
   },
   "file_extension": ".py",
   "mimetype": "text/x-python",
   "name": "python",
   "nbconvert_exporter": "python",
   "pygments_lexer": "ipython3",
   "version": "3.10.16"
  }
 },
 "nbformat": 4,
 "nbformat_minor": 2
}
